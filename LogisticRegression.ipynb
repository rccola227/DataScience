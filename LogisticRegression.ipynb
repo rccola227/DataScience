{
 "cells": [
  {
   "cell_type": "code",
   "execution_count": 118,
   "metadata": {
    "collapsed": true
   },
   "outputs": [],
   "source": [
    "import numpy as np\n",
    "import pandas as pd\n",
    "import matplotlib.pyplot as plt\n",
    "%matplotlib inline"
   ]
  },
  {
   "cell_type": "code",
   "execution_count": 119,
   "metadata": {
    "collapsed": true
   },
   "outputs": [],
   "source": [
    "def softmax(x):\n",
    "    e_x = np.exp(x - np.max(x))\n",
    "    summations = np.sum(e_x, axis=1)\n",
    "    summations = summations.reshape(len(summations), 1)    \n",
    "    return e_x / summations"
   ]
  },
  {
   "cell_type": "code",
   "execution_count": 120,
   "metadata": {},
   "outputs": [],
   "source": [
    "data = pd.DataFrame(pd.read_csv('iris.csv'))\n",
    "inputs_df = pd.DataFrame(data)\n",
    "inputs_df = data.drop(['species'], axis=1)\n",
    "inputs_df[\"intercept\"] = 1\n",
    "inputs = np.array(inputs_df)\n",
    "outputs = data[\"species\"].astype(\"category\").cat.codes\n",
    "num_features = inputs.shape[1]\n",
    "num_classes = len(np.unique(outputs))\n",
    "outputs = np.array(pd.get_dummies(outputs))"
   ]
  },
  {
   "cell_type": "code",
   "execution_count": 121,
   "metadata": {},
   "outputs": [
    {
     "name": "stdout",
     "output_type": "stream",
     "text": [
      "Iteration:  0  Loss:  164.7918433  Accuracy:  33.33333333333333 %\n",
      "Iteration:  100  Loss:  94.7685032113  Accuracy:  70.66666666666667 %\n",
      "Iteration:  200  Loss:  77.7388726647  Accuracy:  86.66666666666667 %\n",
      "Iteration:  300  Loss:  69.2060492117  Accuracy:  92.0 %\n",
      "Iteration:  400  Loss:  63.5143688745  Accuracy:  94.0 %\n",
      "Iteration:  500  Loss:  59.1912249604  Accuracy:  96.66666666666667 %\n",
      "Iteration:  600  Loss:  55.6797629883  Accuracy:  96.66666666666667 %\n",
      "Iteration:  700  Loss:  52.7162781668  Accuracy:  96.66666666666667 %\n",
      "Iteration:  800  Loss:  50.1550359983  Accuracy:  96.66666666666667 %\n",
      "Iteration:  900  Loss:  47.9058356796  Accuracy:  96.66666666666667 %\n",
      "Iteration:  1000  Loss:  45.9079054758  Accuracy:  96.66666666666667 %\n",
      "Iteration:  1100  Loss:  44.1176227829  Accuracy:  96.66666666666667 %\n",
      "Iteration:  1200  Loss:  42.5021681037  Accuracy:  96.66666666666667 %\n",
      "Iteration:  1300  Loss:  41.0359751791  Accuracy:  97.33333333333334 %\n",
      "Iteration:  1400  Loss:  39.6986041624  Accuracy:  97.33333333333334 %\n",
      "Iteration:  1500  Loss:  38.473389034  Accuracy:  97.33333333333334 %\n",
      "Iteration:  1600  Loss:  37.3465321883  Accuracy:  97.33333333333334 %\n",
      "Iteration:  1700  Loss:  36.3064716085  Accuracy:  98.0 %\n",
      "Iteration:  1800  Loss:  35.343422454  Accuracy:  98.0 %\n",
      "Iteration:  1900  Loss:  34.4490351314  Accuracy:  98.0 %\n"
     ]
    }
   ],
   "source": [
    "logIterations = 100\n",
    "def crossEntropy(targets, predictions):\n",
    "    return -np.sum(targets * np.log(predictions))\n",
    "def getAccuracy(targets, predictions):\n",
    "    one_hots = np.eye(num_classes)\n",
    "    discreteOneHot = one_hots[np.argmax(predictions, axis=1)]\n",
    "    compared = (discreteOneHot==targets)\n",
    "    correct = 0\n",
    "    for r in range(len(compared)):\n",
    "        if compared[r].all():\n",
    "            correct = correct + 1\n",
    "    accuracy = correct / len(targets)\n",
    "    return accuracy\n",
    "    #print (discreteOneHot == predictions)\n",
    "def gradientDescent(learningRate, epochs):\n",
    "    weights = np.array([[1] * num_features] * num_classes)\n",
    "    cost_history = np.array([])\n",
    "    accuracy_history = np.array([])\n",
    "    for i in range(epochs):\n",
    "        scores = inputs.dot(weights.T)\n",
    "        predictions = softmax(scores)\n",
    "        loss = predictions - outputs\n",
    "        gradients = inputs.T.dot(loss)\n",
    "        weights = weights - learningRate * gradients.T\n",
    "        ce = crossEntropy(outputs, predictions)\n",
    "        acc = getAccuracy(outputs, predictions) * 100\n",
    "        cost_history = np.append(cost_history, [ce])\n",
    "        accuracy_history = np.append(accuracy_history, [acc])\n",
    "        if i%logIterations == 0:\n",
    "            print (\"Iteration: \", i, \" Loss: \", ce, \" Accuracy: \", acc, \"%\")\n",
    "    return weights, cost_history, accuracy_history\n",
    "iterations = 2000\n",
    "weights, cost_history, accuracy_history = gradientDescent(0.0001, iterations)"
   ]
  },
  {
   "cell_type": "code",
   "execution_count": 122,
   "metadata": {},
   "outputs": [
    {
     "data": {
      "text/plain": [
       "[<matplotlib.lines.Line2D at 0x7f4fab63c208>]"
      ]
     },
     "execution_count": 122,
     "metadata": {},
     "output_type": "execute_result"
    },
    {
     "data": {
      "image/png": "[encoded data removed]",
      "text/plain": [
       "<matplotlib.figure.Figure at 0x7f4fa9497320>"
      ]
     },
     "metadata": {},
     "output_type": "display_data"
    }
   ],
   "source": [
    "\n",
    "plt.plot (range(iterations), cost_history, 'k-')"
   ]
  },
  {
   "cell_type": "code",
   "execution_count": 123,
   "metadata": {},
   "outputs": [
    {
     "data": {
      "text/plain": [
       "[<matplotlib.lines.Line2D at 0x7f4fa93f1668>]"
      ]
     },
     "execution_count": 123,
     "metadata": {},
     "output_type": "execute_result"
    },
    {
     "data": {
      "image/png": "[encoded data removed]",
      "text/plain": [
       "<matplotlib.figure.Figure at 0x7f4fab654ba8>"
      ]
     },
     "metadata": {},
     "output_type": "display_data"
    }
   ],
   "source": [
    "plt.plot (range(iterations), accuracy_history, 'k-')"
   ]
  },
  {
   "cell_type": "code",
   "execution_count": null,
   "metadata": {
    "collapsed": true
   },
   "outputs": [],
   "source": []
  }
 ],
 "metadata": {
  "kernelspec": {
   "display_name": "Python 3",
   "language": "python",
   "name": "python3"
  },
  "language_info": {
   "codemirror_mode": {
    "name": "ipython",
    "version": 3
   },
   "file_extension": ".py",
   "mimetype": "text/x-python",
   "name": "python",
   "nbconvert_exporter": "python",
   "pygments_lexer": "ipython3",
   "version": "3.5.2"
  }
 },
 "nbformat": 4,
 "nbformat_minor": 2
}
